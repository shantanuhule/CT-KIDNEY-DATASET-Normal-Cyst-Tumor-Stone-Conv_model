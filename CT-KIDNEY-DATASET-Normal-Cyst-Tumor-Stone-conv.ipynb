{
 "cells": [
  {
   "cell_type": "code",
   "execution_count": 1,
   "id": "5e64190a",
   "metadata": {},
   "outputs": [],
   "source": [
    "import pandas as pd\n",
    "import numpy as np\n",
    "import matplotlib.pyplot as plt\n",
    "import tensorflow as tf\n",
    "import seaborn as sns\n",
    "from tqdm import tqdm\n",
    "import os\n",
    "import cv2\n",
    "import random\n",
    "IMG_SIZE=32"
   ]
  },
  {
   "cell_type": "code",
   "execution_count": 3,
   "id": "4ef54e37",
   "metadata": {},
   "outputs": [
    {
     "name": "stderr",
     "output_type": "stream",
     "text": [
      "100%|██████████████████████████████████████████████████████████████████████████████| 3709/3709 [02:13<00:00, 27.72it/s]\n",
      "100%|██████████████████████████████████████████████████████████████████████████████| 5077/5077 [02:11<00:00, 38.64it/s]\n",
      "100%|██████████████████████████████████████████████████████████████████████████████| 1377/1377 [00:31<00:00, 44.12it/s]\n",
      "100%|██████████████████████████████████████████████████████████████████████████████| 2283/2283 [00:51<00:00, 44.39it/s]\n"
     ]
    }
   ],
   "source": [
    "training_data=[]\n",
    "def train_data():\n",
    "    \n",
    "    \n",
    "      # labeling diseases\n",
    "      label_covid=[1.0,0.0,0.0,0.0]  #cyst\n",
    "      label_pneu=[0.0,1.0,0.0,0.0] #normal\n",
    "      label_tube=[0.0,0.0,1.0,0.0] #stone\n",
    "      label_normal=[0.0,0.0,0.0,1.0] #tumor\n",
    "\n",
    "      #path of images\n",
    "      drive_path=[r\"D:\\new\\projects\\CT_KIDNEY_DATASET\\CT-KIDNEY-DATASET-Normal-Cyst-Tumor-Stone\\CT-KIDNEY-DATASET-Normal-Cyst-Tumor-Stone\\Cyst\",\n",
    "                 r\"D:\\new\\projects\\CT_KIDNEY_DATASET\\CT-KIDNEY-DATASET-Normal-Cyst-Tumor-Stone\\CT-KIDNEY-DATASET-Normal-Cyst-Tumor-Stone\\Normal\",\n",
    "                 r\"D:\\new\\projects\\CT_KIDNEY_DATASET\\CT-KIDNEY-DATASET-Normal-Cyst-Tumor-Stone\\CT-KIDNEY-DATASET-Normal-Cyst-Tumor-Stone\\Stone\",\n",
    "                 r\"D:\\new\\projects\\CT_KIDNEY_DATASET\\CT-KIDNEY-DATASET-Normal-Cyst-Tumor-Stone\\CT-KIDNEY-DATASET-Normal-Cyst-Tumor-Stone\\Tumor\"]\n",
    "        \n",
    "\n",
    "\n",
    "      #Collecting training data\n",
    "      #cyst\n",
    "      for img in tqdm(os.listdir(drive_path[0])): \n",
    "        path=os.path.join(drive_path[0],img) #joining path of image \n",
    "        img=cv2.imread(path,cv2.IMREAD_COLOR) #reading the image\n",
    "        img=cv2.resize(img,(IMG_SIZE,IMG_SIZE)) #resizing the image\n",
    "        training_data.append([np.array(img),np.array(label_covid)]) #trainig data (image,label)\n",
    "\n",
    "      #nomral\n",
    "      for img in tqdm(os.listdir(drive_path[1])):\n",
    "        path=os.path.join(drive_path[1],img)\n",
    "        img=cv2.imread(path,cv2.IMREAD_COLOR)\n",
    "        img=cv2.resize(img,(IMG_SIZE,IMG_SIZE))\n",
    "        training_data.append([np.array(img),np.array(label_pneu)])\n",
    "\n",
    "      for img in tqdm(os.listdir(drive_path[2])):#stone\n",
    "        path=os.path.join(drive_path[2],img)\n",
    "        img=cv2.imread(path,cv2.IMREAD_COLOR)\n",
    "        img=cv2.resize(img,(IMG_SIZE,IMG_SIZE))\n",
    "        training_data.append([np.array(img),np.array(label_tube)])    \n",
    "       #tumor\n",
    "      for img in tqdm(os.listdir(drive_path[3])):\n",
    "        path=os.path.join(drive_path[3],img)\n",
    "        img=cv2.imread(path,cv2.IMREAD_COLOR)\n",
    "        img=cv2.resize(img,(IMG_SIZE,IMG_SIZE))\n",
    "        training_data.append([np.array(img),np.array(label_normal)])   \n",
    "\n",
    "train_data()\n"
   ]
  },
  {
   "cell_type": "code",
   "execution_count": 5,
   "id": "e5eb18f2",
   "metadata": {},
   "outputs": [
    {
     "data": {
      "text/plain": [
       "12446"
      ]
     },
     "execution_count": 5,
     "metadata": {},
     "output_type": "execute_result"
    }
   ],
   "source": [
    "len(training_data)"
   ]
  },
  {
   "cell_type": "code",
   "execution_count": 6,
   "id": "ee061b92",
   "metadata": {},
   "outputs": [],
   "source": [
    "from random import shuffle\n",
    "shuffle(training_data)"
   ]
  },
  {
   "cell_type": "code",
   "execution_count": 7,
   "id": "dd41a382",
   "metadata": {},
   "outputs": [],
   "source": [
    "Train_data=training_data[:9000]\n",
    "Test_data=training_data[9000:]"
   ]
  },
  {
   "cell_type": "code",
   "execution_count": 8,
   "id": "9395b532",
   "metadata": {},
   "outputs": [],
   "source": [
    "#training data\n",
    "X_train=np.array([i[0] for i in Train_data])\n",
    "Y_train=np.array([i[1] for i in Train_data])\n",
    "\n",
    "#testing data\n",
    "X_test=np.array([i[0] for i in Test_data])\n",
    "Y_test=np.array([i[1] for i in Test_data])"
   ]
  },
  {
   "cell_type": "code",
   "execution_count": 9,
   "id": "ca61fd01",
   "metadata": {},
   "outputs": [
    {
     "name": "stdout",
     "output_type": "stream",
     "text": [
      "Shape of X_train: (9000, 32, 32, 3) \n",
      "Shape of Y_train: (9000, 4)\n",
      "Shape of X_test: (3446, 32, 32, 3) \n",
      "Shape of Y_test: (3446, 4)\n"
     ]
    }
   ],
   "source": [
    "print(\"Shape of X_train:\",X_train.shape,\"\\nShape of Y_train:\",Y_train.shape)\n",
    "print(\"Shape of X_test:\",X_test.shape,\"\\nShape of Y_test:\",Y_test.shape)"
   ]
  },
  {
   "cell_type": "code",
   "execution_count": 10,
   "id": "1c875ca6",
   "metadata": {},
   "outputs": [
    {
     "name": "stdout",
     "output_type": "stream",
     "text": [
      "Epoch 1/10\n",
      "282/282 [==============================] - 33s 65ms/step - loss: 0.4176 - accuracy: 0.8653 - val_loss: 0.0515 - val_accuracy: 0.9922\n",
      "Epoch 2/10\n",
      "282/282 [==============================] - 17s 58ms/step - loss: 0.0364 - accuracy: 0.9932 - val_loss: 0.0170 - val_accuracy: 0.9980\n",
      "Epoch 3/10\n",
      "282/282 [==============================] - 16s 56ms/step - loss: 0.0131 - accuracy: 0.9982 - val_loss: 0.0155 - val_accuracy: 0.9965\n",
      "Epoch 4/10\n",
      "282/282 [==============================] - 17s 62ms/step - loss: 0.0038 - accuracy: 1.0000 - val_loss: 0.0061 - val_accuracy: 0.9994\n",
      "Epoch 5/10\n",
      "282/282 [==============================] - 17s 60ms/step - loss: 0.0024 - accuracy: 1.0000 - val_loss: 0.0027 - val_accuracy: 1.0000\n",
      "Epoch 6/10\n",
      "282/282 [==============================] - 16s 58ms/step - loss: 0.0013 - accuracy: 1.0000 - val_loss: 0.0019 - val_accuracy: 1.0000\n",
      "Epoch 7/10\n",
      "282/282 [==============================] - 17s 61ms/step - loss: 0.0010 - accuracy: 1.0000 - val_loss: 0.0018 - val_accuracy: 1.0000\n",
      "Epoch 8/10\n",
      "282/282 [==============================] - 16s 56ms/step - loss: 7.8590e-04 - accuracy: 1.0000 - val_loss: 0.0016 - val_accuracy: 1.0000\n",
      "Epoch 9/10\n",
      "282/282 [==============================] - 16s 56ms/step - loss: 6.2372e-04 - accuracy: 1.0000 - val_loss: 0.0011 - val_accuracy: 1.0000\n",
      "Epoch 10/10\n",
      "282/282 [==============================] - 16s 56ms/step - loss: 5.3137e-04 - accuracy: 1.0000 - val_loss: 8.8042e-04 - val_accuracy: 1.0000\n"
     ]
    }
   ],
   "source": [
    "def cnn_model():\n",
    "  model=tf.keras.Sequential([tf.keras.layers.InputLayer((IMG_SIZE,IMG_SIZE,3)),\n",
    "                             \n",
    "                             tf.keras.layers.ZeroPadding2D(padding=(3,3)),\n",
    "\n",
    "                             tf.keras.layers.Conv2D(filters=32,kernel_size=7,strides=(1,1)),\n",
    "\n",
    "                             tf.keras.layers.BatchNormalization(axis=-1, momentum=0.99, epsilon=0.001,beta_initializer='zeros', gamma_initializer='ones',moving_mean_initializer='zeros',moving_variance_initializer='ones'),\n",
    "\n",
    "                             tf.keras.layers.ReLU(),\n",
    "\n",
    "                             tf.keras.layers.MaxPooling2D(pool_size=(2, 2), strides=(2,2), padding='valid'),\n",
    "\n",
    "                             tf.keras.layers.Flatten(),\n",
    "\n",
    "                             tf.keras.layers.Dense(4,activation='softmax'),                             \n",
    "                             \n",
    "                             ])\n",
    "  return model\n",
    "\n",
    "conv_model=cnn_model() #calling the model\n",
    "conv_model.compile(optimizer='adam',\n",
    "                  loss='categorical_crossentropy',\n",
    "                  metrics=['accuracy']) #compliing the model\n",
    "\n",
    "history=conv_model.fit(x=X_train,y=Y_train,epochs=10,validation_data=(X_test,Y_test),batch_size=32) "
   ]
  },
  {
   "cell_type": "code",
   "execution_count": 11,
   "id": "1a04ae6a",
   "metadata": {},
   "outputs": [
    {
     "data": {
      "image/png": "[encoded data removed]",
      "text/plain": [
       "<Figure size 432x288 with 1 Axes>"
      ]
     },
     "metadata": {
      "needs_background": "light"
     },
     "output_type": "display_data"
    },
    {
     "data": {
      "image/png": "[encoded data removed]",
      "text/plain": [
       "<Figure size 432x288 with 1 Axes>"
      ]
     },
     "metadata": {
      "needs_background": "light"
     },
     "output_type": "display_data"
    }
   ],
   "source": [
    "plt.plot(history.history['accuracy'])\n",
    "plt.plot(history.history['val_accuracy'])\n",
    "plt.title('model accuracy')\n",
    "plt.ylabel('accuracy')\n",
    "plt.xlabel('epoch')\n",
    "plt.legend(['train', 'test'], loc='upper left')\n",
    "plt.show()\n",
    "# summarize history for loss\n",
    "plt.plot(history.history['loss'])\n",
    "plt.plot(history.history['val_loss'])\n",
    "plt.title('model loss')\n",
    "plt.ylabel('loss')\n",
    "plt.xlabel('epoch')\n",
    "plt.legend(['train', 'test'], loc='upper left')\n",
    "plt.show()"
   ]
  },
  {
   "cell_type": "code",
   "execution_count": 12,
   "id": "e296944a",
   "metadata": {},
   "outputs": [
    {
     "name": "stdout",
     "output_type": "stream",
     "text": [
      "108/108 [==============================] - 2s 15ms/step - loss: 8.8042e-04 - accuracy: 1.0000\n"
     ]
    },
    {
     "data": {
      "text/plain": [
       "[0.0008804173558019102, 1.0]"
      ]
     },
     "execution_count": 12,
     "metadata": {},
     "output_type": "execute_result"
    }
   ],
   "source": [
    "conv_model.save('convolution_model_KT.h5') #Saving the CNN model\n",
    "conv_model.evaluate(X_test,Y_test) #Evaluating the CNN model"
   ]
  },
  {
   "cell_type": "code",
   "execution_count": 23,
   "id": "0aca802d",
   "metadata": {},
   "outputs": [],
   "source": [
    "def process(path):\n",
    "  img=cv2.imread(path,cv2.IMREAD_COLOR)\n",
    "#   print(img)\n",
    "  img=cv2.resize(img,(32,32))\n",
    "  x=img\n",
    "  img=np.expand_dims(img,axis=0)\n",
    "  return img,x\n",
    "# def pred_list(pred):\n",
    "#   pred_list=[]\n",
    "#   for i in pred[0]:\n",
    "#     x=format(i,'.8f')\n",
    "#     pred_list.append(x)\n",
    "#   return pred_list\n",
    "\n",
    "def disease(pred_list):\n",
    "  x=np.argmax(pred_list)\n",
    "  if x==0:\n",
    "    print(\"Disease: Cyst\")\n",
    "  elif x==1:\n",
    "    print(\"Normal\")\n",
    "  elif x==2:\n",
    "    print(\"Disease: Stone\")\n",
    "  elif x==3:\n",
    "    print(\"Disease Tumor\")"
   ]
  },
  {
   "cell_type": "code",
   "execution_count": 30,
   "id": "12148749",
   "metadata": {},
   "outputs": [
    {
     "name": "stdout",
     "output_type": "stream",
     "text": [
      "1/1 [==============================] - 0s 12ms/step\n",
      "[[9.9999940e-01 2.3804501e-08 3.0533307e-08 5.7716665e-07]]\n",
      "Disease: Cyst\n"
     ]
    },
    {
     "data": {
      "text/plain": [
       "<matplotlib.image.AxesImage at 0x1a39595e040>"
      ]
     },
     "execution_count": 30,
     "metadata": {},
     "output_type": "execute_result"
    },
    {
     "data": {
      "image/png": "[encoded data removed]",
      "text/plain": [
       "<Figure size 432x288 with 1 Axes>"
      ]
     },
     "metadata": {
      "needs_background": "light"
     },
     "output_type": "display_data"
    }
   ],
   "source": [
    "# path='D:\\new\\projects\\CT_KIDNEY_DATASET\\CT-KIDNEY-DATASET-Normal-Cyst-Tumor-Stone\\CT-KIDNEY-DATASET-Normal-Cyst-Tumor-Stone\\Cyst\\Cyst- (1).jpg'\n",
    "path=r\"D:\\new\\projects\\CT_KIDNEY_DATASET\\CT-KIDNEY-DATASET-Normal-Cyst-Tumor-Stone\\CT-KIDNEY-DATASET-Normal-Cyst-Tumor-Stone\\Cyst\\Cyst- (1).jpg\"\n",
    "img,x=process(path)\n",
    "pred=conv_model.predict(img)\n",
    "print(pred)\n",
    "# pred=pred_list(pred)\n",
    "# print(pred)\n",
    "disease(pred)\n",
    "plt.imshow(x)\n"
   ]
  },
  {
   "cell_type": "code",
   "execution_count": 31,
   "id": "72c39c7f",
   "metadata": {},
   "outputs": [
    {
     "name": "stdout",
     "output_type": "stream",
     "text": [
      "1/1 [==============================] - 0s 23ms/step\n",
      "[[4.3087643e-05 9.9994886e-01 4.5167540e-06 3.5731996e-06]]\n",
      "Normal\n"
     ]
    },
    {
     "data": {
      "text/plain": [
       "<matplotlib.image.AxesImage at 0x1a39694c280>"
      ]
     },
     "execution_count": 31,
     "metadata": {},
     "output_type": "execute_result"
    },
    {
     "data": {
      "image/png": "[encoded data removed]",
      "text/plain": [
       "<Figure size 432x288 with 1 Axes>"
      ]
     },
     "metadata": {
      "needs_background": "light"
     },
     "output_type": "display_data"
    }
   ],
   "source": [
    "# path='D:\\new\\projects\\CT_KIDNEY_DATASET\\CT-KIDNEY-DATASET-Normal-Cyst-Tumor-Stone\\CT-KIDNEY-DATASET-Normal-Cyst-Tumor-Stone\\Cyst\\Cyst- (1).jpg'\n",
    "path=r\"D:\\new\\projects\\CT_KIDNEY_DATASET\\CT-KIDNEY-DATASET-Normal-Cyst-Tumor-Stone\\CT-KIDNEY-DATASET-Normal-Cyst-Tumor-Stone\\Normal\\Normal- (1).jpg\"\n",
    "img,x=process(path)\n",
    "pred=conv_model.predict(img)\n",
    "print(pred)\n",
    "# pred=pred_list(pred)\n",
    "# print(pred)\n",
    "disease(pred)\n",
    "plt.imshow(x)\n"
   ]
  },
  {
   "cell_type": "code",
   "execution_count": null,
   "id": "0b515509",
   "metadata": {},
   "outputs": [],
   "source": []
  }
 ],
 "metadata": {
  "kernelspec": {
   "display_name": "Python 3 (ipykernel)",
   "language": "python",
   "name": "python3"
  },
  "language_info": {
   "codemirror_mode": {
    "name": "ipython",
    "version": 3
   },
   "file_extension": ".py",
   "mimetype": "text/x-python",
   "name": "python",
   "nbconvert_exporter": "python",
   "pygments_lexer": "ipython3",
   "version": "3.9.12"
  }
 },
 "nbformat": 4,
 "nbformat_minor": 5
}
